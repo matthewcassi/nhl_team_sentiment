{
 "cells": [
  {
   "cell_type": "code",
   "execution_count": 1,
   "metadata": {
    "collapsed": true
   },
   "outputs": [],
   "source": [
    "import pandas as pd\n",
    "import numpy as np\n",
    "from sklearn.externals import joblib"
   ]
  },
  {
   "cell_type": "code",
   "execution_count": 2,
   "metadata": {},
   "outputs": [],
   "source": [
    "hockey = pd.read_csv('/Users/matthewcassi/Documents/nhl_sentiment_working/no_num_hash_mentions/cleaning/removal_stops_tweets.csv')\n",
    "hockey.drop('Unnamed: 0', 1, inplace=True)\n",
    "hockey.dropna(inplace=True)\n",
    "hockey.drop_duplicates(inplace=True)\n",
    "\n",
    "lr_stop_tfidf_vec_ngrams = joblib.load('/Users/matthewcassi/Documents/nhl_sentiment_working/no_num_hash_mentions/predictions/log_reg/lr_stop_tfidf_vec_ngrams.pkl')\n",
    "\n",
    "lr_stop_tfidf_vec_ngrams_limited = joblib.load('/Users/matthewcassi/Documents/nhl_sentiment_working/no_num_hash_mentions/predictions/log_reg/lr_stop_tfidf_vec_ngrams_limited.pkl')\n",
    "\n",
    "nb_stop_tfidf_vec_ngrams = joblib.load('/Users/matthewcassi/Documents/nhl_sentiment_working/no_num_hash_mentions/predictions/naive_bayes/nb_stop_tfidf_vec_ngrams.pkl')"
   ]
  },
  {
   "cell_type": "code",
   "execution_count": 3,
   "metadata": {},
   "outputs": [
    {
     "data": {
      "text/html": [
       "<div>\n",
       "<style>\n",
       "    .dataframe thead tr:only-child th {\n",
       "        text-align: right;\n",
       "    }\n",
       "\n",
       "    .dataframe thead th {\n",
       "        text-align: left;\n",
       "    }\n",
       "\n",
       "    .dataframe tbody tr th {\n",
       "        vertical-align: top;\n",
       "    }\n",
       "</style>\n",
       "<table border=\"1\" class=\"dataframe\">\n",
       "  <thead>\n",
       "    <tr style=\"text-align: right;\">\n",
       "      <th></th>\n",
       "      <th>stop_text</th>\n",
       "      <th>team</th>\n",
       "    </tr>\n",
       "  </thead>\n",
       "  <tbody>\n",
       "    <tr>\n",
       "      <th>0</th>\n",
       "      <td>time retweet follow enter buch scores goal vs ...</td>\n",
       "      <td>['nyr']</td>\n",
       "    </tr>\n",
       "    <tr>\n",
       "      <th>1</th>\n",
       "      <td>canadiens untouchable beside mete price</td>\n",
       "      <td>['habs']</td>\n",
       "    </tr>\n",
       "    <tr>\n",
       "      <th>2</th>\n",
       "      <td>lets hockey</td>\n",
       "      <td>['wild']</td>\n",
       "    </tr>\n",
       "    <tr>\n",
       "      <th>3</th>\n",
       "      <td>ed belfour</td>\n",
       "      <td>['stars']</td>\n",
       "    </tr>\n",
       "    <tr>\n",
       "      <th>4</th>\n",
       "      <td>happy birthday ryan grim reaper reaves</td>\n",
       "      <td>['pens']</td>\n",
       "    </tr>\n",
       "  </tbody>\n",
       "</table>\n",
       "</div>"
      ],
      "text/plain": [
       "                                           stop_text       team\n",
       "0  time retweet follow enter buch scores goal vs ...    ['nyr']\n",
       "1            canadiens untouchable beside mete price   ['habs']\n",
       "2                                        lets hockey   ['wild']\n",
       "3                                         ed belfour  ['stars']\n",
       "4             happy birthday ryan grim reaper reaves   ['pens']"
      ]
     },
     "execution_count": 3,
     "metadata": {},
     "output_type": "execute_result"
    }
   ],
   "source": [
    "hockey.head()"
   ]
  },
  {
   "cell_type": "code",
   "execution_count": 4,
   "metadata": {
    "collapsed": true
   },
   "outputs": [],
   "source": [
    "hockey.to_csv('stop_remove_duplicates_tweets.csv')"
   ]
  },
  {
   "cell_type": "code",
   "execution_count": 5,
   "metadata": {},
   "outputs": [],
   "source": [
    "teams = hockey[['team']]"
   ]
  },
  {
   "cell_type": "code",
   "execution_count": 6,
   "metadata": {
    "collapsed": true
   },
   "outputs": [],
   "source": [
    "def bool_team(row, team):\n",
    "    team_bool = team in row['team']\n",
    "    return team_bool"
   ]
  },
  {
   "cell_type": "code",
   "execution_count": 7,
   "metadata": {},
   "outputs": [],
   "source": [
    "nyr = teams.apply(bool_team, team='nyr', axis=1)\n",
    "ducks = teams.apply(bool_team, team='ducks', axis=1)\n",
    "yotes = teams.apply(bool_team, team='yotes', axis=1)\n",
    "bruins = teams.apply(bool_team, team='bruins', axis=1)\n",
    "sabres = teams.apply(bool_team, team='sabres', axis=1)\n",
    "flames = teams.apply(bool_team, team='flames', axis=1)\n",
    "canes = teams.apply(bool_team, team='canes', axis=1)\n",
    "hawks = teams.apply(bool_team, team='hawks', axis=1)\n",
    "avs = teams.apply(bool_team, team='avs', axis=1)\n",
    "jackets = teams.apply(bool_team, team='jackets', axis=1)\n",
    "stars = teams.apply(bool_team, team='stars', axis=1)\n",
    "wings = teams.apply(bool_team, team='wings', axis=1)\n",
    "oilers = teams.apply(bool_team, team='oilers', axis=1)\n",
    "panthers = teams.apply(bool_team, team='panthers', axis=1)\n",
    "kings = teams.apply(bool_team, team='kings', axis=1)\n",
    "wild = teams.apply(bool_team, team='wild', axis=1)\n",
    "habs = teams.apply(bool_team, team='habs', axis=1)\n",
    "preds = teams.apply(bool_team, team='preds', axis=1)\n",
    "devils = teams.apply(bool_team, team='devils', axis=1)\n",
    "isles = teams.apply(bool_team, team='isles', axis=1)\n",
    "sens = teams.apply(bool_team, team='sens', axis=1)\n",
    "flyers = teams.apply(bool_team, team='flyers', axis=1)\n",
    "pens = teams.apply(bool_team, team='pens', axis=1)\n",
    "sharks = teams.apply(bool_team, team='sharks', axis=1)\n",
    "blues = teams.apply(bool_team, team='blues', axis=1)\n",
    "bolts = teams.apply(bool_team, team='bolts', axis=1)\n",
    "leafs = teams.apply(bool_team, team='leafs', axis=1)\n",
    "canucks = teams.apply(bool_team, team='canucks', axis=1)\n",
    "knights = teams.apply(bool_team, team='knights', axis=1)\n",
    "caps = teams.apply(bool_team, team='caps', axis=1)\n",
    "jets = teams.apply(bool_team, team='jets', axis=1)"
   ]
  },
  {
   "cell_type": "code",
   "execution_count": 8,
   "metadata": {},
   "outputs": [
    {
     "data": {
      "text/html": [
       "<div>\n",
       "<style>\n",
       "    .dataframe thead tr:only-child th {\n",
       "        text-align: right;\n",
       "    }\n",
       "\n",
       "    .dataframe thead th {\n",
       "        text-align: left;\n",
       "    }\n",
       "\n",
       "    .dataframe tbody tr th {\n",
       "        vertical-align: top;\n",
       "    }\n",
       "</style>\n",
       "<table border=\"1\" class=\"dataframe\">\n",
       "  <thead>\n",
       "    <tr style=\"text-align: right;\">\n",
       "      <th></th>\n",
       "      <th>index</th>\n",
       "      <th>stop_text</th>\n",
       "      <th>team</th>\n",
       "    </tr>\n",
       "  </thead>\n",
       "  <tbody>\n",
       "    <tr>\n",
       "      <th>0</th>\n",
       "      <td>0</td>\n",
       "      <td>time retweet follow enter buch scores goal vs ...</td>\n",
       "      <td>['nyr']</td>\n",
       "    </tr>\n",
       "    <tr>\n",
       "      <th>1</th>\n",
       "      <td>9</td>\n",
       "      <td>game day avalanche colorado pm pregame report</td>\n",
       "      <td>['nyr']</td>\n",
       "    </tr>\n",
       "    <tr>\n",
       "      <th>2</th>\n",
       "      <td>42</td>\n",
       "      <td>love new york rangers alumni marched islanders...</td>\n",
       "      <td>['nyr', 'isles']</td>\n",
       "    </tr>\n",
       "    <tr>\n",
       "      <th>3</th>\n",
       "      <td>46</td>\n",
       "      <td>saturdays boys also rush join est ahead game s...</td>\n",
       "      <td>['nyr', 'kings']</td>\n",
       "    </tr>\n",
       "    <tr>\n",
       "      <th>4</th>\n",
       "      <td>55</td>\n",
       "      <td>oh rangers actually tweet promote year</td>\n",
       "      <td>['nyr', 'isles']</td>\n",
       "    </tr>\n",
       "  </tbody>\n",
       "</table>\n",
       "</div>"
      ],
      "text/plain": [
       "   index                                          stop_text              team\n",
       "0      0  time retweet follow enter buch scores goal vs ...           ['nyr']\n",
       "1      9      game day avalanche colorado pm pregame report           ['nyr']\n",
       "2     42  love new york rangers alumni marched islanders...  ['nyr', 'isles']\n",
       "3     46  saturdays boys also rush join est ahead game s...  ['nyr', 'kings']\n",
       "4     55             oh rangers actually tweet promote year  ['nyr', 'isles']"
      ]
     },
     "execution_count": 8,
     "metadata": {},
     "output_type": "execute_result"
    }
   ],
   "source": [
    "hockey[nyr].reset_index().head()"
   ]
  },
  {
   "cell_type": "code",
   "execution_count": 9,
   "metadata": {
    "collapsed": true
   },
   "outputs": [],
   "source": [
    "nyr_df = hockey[nyr].reset_index().drop(['index','team'], 1)\n",
    "ducks_df = hockey[ducks].reset_index().drop(['index','team'], 1)\n",
    "yotes_df = hockey[yotes].reset_index().drop(['index','team'], 1)\n",
    "bruins_df = hockey[bruins].reset_index().drop(['index','team'], 1)\n",
    "sabres_df = hockey[sabres].reset_index().drop(['index','team'], 1)\n",
    "flames_df = hockey[flames].reset_index().drop(['index','team'], 1)\n",
    "canes_df = hockey[canes].reset_index().drop(['index','team'], 1)\n",
    "hawks_df = hockey[hawks].reset_index().drop(['index','team'], 1)\n",
    "avs_df = hockey[avs].reset_index().drop(['index','team'], 1)\n",
    "jackets_df = hockey[jackets].reset_index().drop(['index','team'], 1)\n",
    "stars_df = hockey[stars].reset_index().drop(['index','team'], 1)\n",
    "wings_df = hockey[wings].reset_index().drop(['index','team'], 1)\n",
    "oilers_df = hockey[oilers].reset_index().drop(['index','team'], 1)\n",
    "panthers_df = hockey[panthers].reset_index().drop(['index','team'], 1)\n",
    "kings_df = hockey[kings].reset_index().drop(['index','team'], 1)\n",
    "wild_df = hockey[wild].reset_index().drop(['index','team'], 1)\n",
    "habs_df = hockey[habs].reset_index().drop(['index','team'], 1)\n",
    "preds_df = hockey[preds].reset_index().drop(['index','team'], 1)\n",
    "devils_df = hockey[devils].reset_index().drop(['index','team'], 1)\n",
    "isles_df = hockey[isles].reset_index().drop(['index','team'], 1)\n",
    "sens_df = hockey[sens].reset_index().drop(['index','team'], 1)\n",
    "flyers_df = hockey[flyers].reset_index().drop(['index','team'], 1)\n",
    "pens_df = hockey[pens].reset_index().drop(['index','team'], 1)\n",
    "sharks_df = hockey[sharks].reset_index().drop(['index','team'], 1)\n",
    "blues_df = hockey[blues].reset_index().drop(['index','team'], 1)\n",
    "bolts_df = hockey[bolts].reset_index().drop(['index','team'], 1)\n",
    "leafs_df = hockey[leafs].reset_index().drop(['index','team'], 1)\n",
    "canucks_df = hockey[canucks].reset_index().drop(['index','team'], 1)\n",
    "knights_df = hockey[knights].reset_index().drop(['index','team'], 1)\n",
    "caps_df = hockey[caps].reset_index().drop(['index','team'], 1)\n",
    "jets_df = hockey[jets].reset_index().drop(['index','team'], 1)"
   ]
  },
  {
   "cell_type": "code",
   "execution_count": 28,
   "metadata": {
    "collapsed": true
   },
   "outputs": [],
   "source": [
    "nyr_pred = lr_stop_tfidf_vec_ngrams.predict(nyr_df['stop_text'])\n",
    "ducks_pred = lr_stop_tfidf_vec_ngrams.predict(ducks_df['stop_text'])\n",
    "yotes_pred = lr_stop_tfidf_vec_ngrams.predict(yotes_df['stop_text'])\n",
    "bruins_pred = lr_stop_tfidf_vec_ngrams.predict(bruins_df['stop_text'])\n",
    "sabres_pred = lr_stop_tfidf_vec_ngrams.predict(sabres_df['stop_text'])\n",
    "flames_pred = lr_stop_tfidf_vec_ngrams.predict(flames_df['stop_text'])\n",
    "canes_pred = lr_stop_tfidf_vec_ngrams.predict(canes_df['stop_text'])\n",
    "hawks_pred = lr_stop_tfidf_vec_ngrams.predict(hawks_df['stop_text'])\n",
    "avs_pred = lr_stop_tfidf_vec_ngrams.predict(avs_df['stop_text'])\n",
    "jackets_pred = lr_stop_tfidf_vec_ngrams.predict(jackets_df['stop_text'])\n",
    "stars_pred = lr_stop_tfidf_vec_ngrams.predict(stars_df['stop_text'])\n",
    "wings_pred = lr_stop_tfidf_vec_ngrams.predict(wings_df['stop_text'])\n",
    "oilers_pred = lr_stop_tfidf_vec_ngrams.predict(oilers_df['stop_text'])\n",
    "panthers_pred = lr_stop_tfidf_vec_ngrams.predict(panthers_df['stop_text'])\n",
    "kings_pred = lr_stop_tfidf_vec_ngrams.predict(kings_df['stop_text'])\n",
    "wild_pred = lr_stop_tfidf_vec_ngrams.predict(wild_df['stop_text'])\n",
    "habs_pred = lr_stop_tfidf_vec_ngrams.predict(habs_df['stop_text'])\n",
    "preds_pred = lr_stop_tfidf_vec_ngrams.predict(preds_df['stop_text'])\n",
    "devils_pred = lr_stop_tfidf_vec_ngrams.predict(devils_df['stop_text'])\n",
    "isles_pred = lr_stop_tfidf_vec_ngrams.predict(isles_df['stop_text'])\n",
    "sens_pred = lr_stop_tfidf_vec_ngrams.predict(sens_df['stop_text'])\n",
    "flyers_pred = lr_stop_tfidf_vec_ngrams.predict(flyers_df['stop_text'])\n",
    "pens_pred = lr_stop_tfidf_vec_ngrams.predict(pens_df['stop_text'])\n",
    "sharks_pred = lr_stop_tfidf_vec_ngrams.predict(sharks_df['stop_text'])\n",
    "blues_pred = lr_stop_tfidf_vec_ngrams.predict(blues_df['stop_text'])\n",
    "bolts_pred = lr_stop_tfidf_vec_ngrams.predict(bolts_df['stop_text'])\n",
    "leafs_pred = lr_stop_tfidf_vec_ngrams.predict(leafs_df['stop_text'])\n",
    "canucks_pred = lr_stop_tfidf_vec_ngrams.predict(canucks_df['stop_text'])\n",
    "knights_pred = lr_stop_tfidf_vec_ngrams.predict(knights_df['stop_text'])\n",
    "caps_pred = lr_stop_tfidf_vec_ngrams.predict(caps_df['stop_text'])\n",
    "jets_pred = lr_stop_tfidf_vec_ngrams.predict(jets_df['stop_text'])"
   ]
  },
  {
   "cell_type": "code",
   "execution_count": 29,
   "metadata": {},
   "outputs": [],
   "source": [
    "nyr_percent = sum(nyr_pred == 1) / (sum(nyr_pred == 1) + sum(nyr_pred == 0))\n",
    "ducks_percent = sum(ducks_pred == 1) / (sum(ducks_pred == 1) + sum(ducks_pred == 0))\n",
    "yotes_percent = sum(yotes_pred == 1) / (sum(yotes_pred == 1) + sum(yotes_pred == 0))\n",
    "bruins_percent = sum(bruins_pred == 1) / (sum(bruins_pred == 1) + sum(bruins_pred == 0))\n",
    "sabres_percent = sum(sabres_pred == 1) / (sum(sabres_pred == 1) + sum(sabres_pred == 0))\n",
    "flames_percent = sum(flames_pred == 1) / (sum(flames_pred == 1) + sum(flames_pred == 0))\n",
    "canes_percent = sum(canes_pred == 1) / (sum(canes_pred == 1) + sum(canes_pred == 0))\n",
    "hawks_percent = sum(hawks_pred == 1) / (sum(hawks_pred == 1) + sum(hawks_pred == 0))\n",
    "avs_percent = sum(avs_pred == 1) / (sum(avs_pred == 1) + sum(avs_pred == 0))\n",
    "jackets_percent = sum(jackets_pred == 1) / (sum(jackets_pred == 1) + sum(jackets_pred == 0))\n",
    "stars_percent = sum(stars_pred == 1) / (sum(stars_pred == 1) + sum(stars_pred == 0))\n",
    "wings_percent = sum(wings_pred == 1) / (sum(wings_pred == 1) + sum(wings_pred == 0))\n",
    "oilers_percent = sum(oilers_pred == 1) / (sum(oilers_pred == 1) + sum(oilers_pred == 0))\n",
    "panthers_percent = sum(panthers_pred == 1) / (sum(panthers_pred == 1) + sum(panthers_pred == 0))\n",
    "kings_percent = sum(kings_pred == 1) / (sum(kings_pred == 1) + sum(kings_pred == 0))\n",
    "wild_percent = sum(wild_pred == 1) / (sum(wild_pred == 1) + sum(wild_pred == 0))\n",
    "habs_percent = sum(habs_pred == 1) / (sum(habs_pred == 1) + sum(habs_pred == 0))\n",
    "preds_percent = sum(preds_pred == 1) / (sum(preds_pred == 1) + sum(preds_pred == 0))\n",
    "devils_percent = sum(devils_pred == 1) / (sum(devils_pred == 1) + sum(devils_pred == 0))\n",
    "isles_percent = sum(isles_pred == 1) / (sum(isles_pred == 1) + sum(isles_pred == 0))\n",
    "sens_percent = sum(sens_pred == 1) / (sum(sens_pred == 1) + sum(sens_pred == 0))\n",
    "flyers_percent = sum(flyers_pred == 1) / (sum(flyers_pred == 1) + sum(flyers_pred == 0))\n",
    "pens_percent = sum(pens_pred == 1) / (sum(pens_pred == 1) + sum(pens_pred == 0))\n",
    "sharks_percent = sum(sharks_pred == 1) / (sum(sharks_pred == 1) + sum(sharks_pred == 0))\n",
    "blues_percent = sum(blues_pred == 1) / (sum(blues_pred == 1) + sum(blues_pred == 0))\n",
    "bolts_percent = sum(bolts_pred == 1) / (sum(bolts_pred == 1) + sum(bolts_pred == 0))\n",
    "leafs_percent = sum(leafs_pred == 1) / (sum(leafs_pred == 1) + sum(leafs_pred == 0))\n",
    "canucks_percent = sum(canucks_pred == 1) / (sum(canucks_pred == 1) + sum(canucks_pred == 0))\n",
    "knights_percent = sum(knights_pred == 1) / (sum(knights_pred == 1) + sum(knights_pred == 0))\n",
    "caps_percent = sum(caps_pred == 1) / (sum(caps_pred == 1) + sum(caps_pred == 0))\n",
    "jets_percent = sum(jets_pred == 1) / (sum(jets_pred == 1) + sum(jets_pred == 0))"
   ]
  },
  {
   "cell_type": "code",
   "execution_count": 30,
   "metadata": {},
   "outputs": [
    {
     "data": {
      "text/plain": [
       "31"
      ]
     },
     "execution_count": 30,
     "metadata": {},
     "output_type": "execute_result"
    }
   ],
   "source": [
    "positivity_final = [nyr_percent, ducks_percent, yotes_percent, bruins_percent, sabres_percent, flames_percent, canes_percent, hawks_percent, avs_percent, jackets_percent, stars_percent, wings_percent, oilers_percent, panthers_percent, kings_percent, wild_percent, habs_percent, preds_percent, devils_percent, isles_percent, sens_percent, flyers_percent, pens_percent, sharks_percent, blues_percent, bolts_percent, leafs_percent, canucks_percent, knights_percent, caps_percent, jets_percent]\n",
    "len(positivity_final)"
   ]
  },
  {
   "cell_type": "code",
   "execution_count": 31,
   "metadata": {},
   "outputs": [
    {
     "data": {
      "text/plain": [
       "31"
      ]
     },
     "execution_count": 31,
     "metadata": {},
     "output_type": "execute_result"
    }
   ],
   "source": [
    "teams = ['New York Rangers', 'Anaheim Ducks','Arizona Coyotes','Boston Bruins','Buffalo Sabres','Calgary Flames','Carolina Hurricanes','Chicago Blackhawks','Colorado Avalanche','Columbus Blue Jackets','Dallas Stars','Detroit Red Wings','Edmonton Oilers','Florida Panthers','Los Angeles Kings','Minnesota Wild','Montreal Canadiens','Nashville Predators','New Jersey Devils','New York Islanders','Ottawa Senators','Philadelphia Flyers','Pittsburgh Penguins','San Jose Sharks','St. Louis Blues','Tampa Bay Lightning','Toronto Maple Leafs','Vancouver Canucks','Vegas Golden Knights','Washington Capitals','Winnipeg Jets']\n",
    "len(teams)"
   ]
  },
  {
   "cell_type": "code",
   "execution_count": 45,
   "metadata": {},
   "outputs": [],
   "source": [
    "positivity_dict_final = {'team':teams, 'positivity':positivity_final}\n",
    "positivity_final_df = pd.DataFrame(positivity_dict_final)\n",
    "positivity_final_df = positivity_final_df.sort_values(by='positivity', ascending=False)"
   ]
  },
  {
   "cell_type": "code",
   "execution_count": 46,
   "metadata": {
    "collapsed": true
   },
   "outputs": [],
   "source": [
    "positivity_final_df['rank'] = range(1,32)"
   ]
  },
  {
   "cell_type": "code",
   "execution_count": 33,
   "metadata": {
    "collapsed": true
   },
   "outputs": [],
   "source": [
    "positivity_final_df.sort_values(by='positivity', ascending=False).to_csv('final_model_scores.csv', index=False)"
   ]
  },
  {
   "cell_type": "code",
   "execution_count": 34,
   "metadata": {},
   "outputs": [],
   "source": [
    "nyr_pred_2 = lr_stop_tfidf_vec_ngrams_limited.predict(nyr_df['stop_text'])\n",
    "ducks_pred_2 = lr_stop_tfidf_vec_ngrams_limited.predict(ducks_df['stop_text'])\n",
    "yotes_pred_2 = lr_stop_tfidf_vec_ngrams_limited.predict(yotes_df['stop_text'])\n",
    "bruins_pred_2 = lr_stop_tfidf_vec_ngrams_limited.predict(bruins_df['stop_text'])\n",
    "sabres_pred_2 = lr_stop_tfidf_vec_ngrams_limited.predict(sabres_df['stop_text'])\n",
    "flames_pred_2 = lr_stop_tfidf_vec_ngrams_limited.predict(flames_df['stop_text'])\n",
    "canes_pred_2 = lr_stop_tfidf_vec_ngrams_limited.predict(canes_df['stop_text'])\n",
    "hawks_pred_2 = lr_stop_tfidf_vec_ngrams_limited.predict(hawks_df['stop_text'])\n",
    "avs_pred_2 = lr_stop_tfidf_vec_ngrams_limited.predict(avs_df['stop_text'])\n",
    "jackets_pred_2 = lr_stop_tfidf_vec_ngrams_limited.predict(jackets_df['stop_text'])\n",
    "stars_pred_2 = lr_stop_tfidf_vec_ngrams_limited.predict(stars_df['stop_text'])\n",
    "wings_pred_2 = lr_stop_tfidf_vec_ngrams_limited.predict(wings_df['stop_text'])\n",
    "oilers_pred_2 = lr_stop_tfidf_vec_ngrams_limited.predict(oilers_df['stop_text'])\n",
    "panthers_pred_2 = lr_stop_tfidf_vec_ngrams_limited.predict(panthers_df['stop_text'])\n",
    "kings_pred_2 = lr_stop_tfidf_vec_ngrams_limited.predict(kings_df['stop_text'])\n",
    "wild_pred_2 = lr_stop_tfidf_vec_ngrams_limited.predict(wild_df['stop_text'])\n",
    "habs_pred_2 = lr_stop_tfidf_vec_ngrams_limited.predict(habs_df['stop_text'])\n",
    "preds_pred_2 = lr_stop_tfidf_vec_ngrams_limited.predict(preds_df['stop_text'])\n",
    "devils_pred_2 = lr_stop_tfidf_vec_ngrams_limited.predict(devils_df['stop_text'])\n",
    "isles_pred_2 = lr_stop_tfidf_vec_ngrams_limited.predict(isles_df['stop_text'])\n",
    "sens_pred_2 = lr_stop_tfidf_vec_ngrams_limited.predict(sens_df['stop_text'])\n",
    "flyers_pred_2 = lr_stop_tfidf_vec_ngrams_limited.predict(flyers_df['stop_text'])\n",
    "pens_pred_2 = lr_stop_tfidf_vec_ngrams_limited.predict(pens_df['stop_text'])\n",
    "sharks_pred_2 = lr_stop_tfidf_vec_ngrams_limited.predict(sharks_df['stop_text'])\n",
    "blues_pred_2 = lr_stop_tfidf_vec_ngrams_limited.predict(blues_df['stop_text'])\n",
    "bolts_pred_2 = lr_stop_tfidf_vec_ngrams_limited.predict(bolts_df['stop_text'])\n",
    "leafs_pred_2 = lr_stop_tfidf_vec_ngrams_limited.predict(leafs_df['stop_text'])\n",
    "canucks_pred_2 = lr_stop_tfidf_vec_ngrams_limited.predict(canucks_df['stop_text'])\n",
    "knights_pred_2 = lr_stop_tfidf_vec_ngrams_limited.predict(knights_df['stop_text'])\n",
    "caps_pred_2 = lr_stop_tfidf_vec_ngrams_limited.predict(caps_df['stop_text'])\n",
    "jets_pred_2 = lr_stop_tfidf_vec_ngrams_limited.predict(jets_df['stop_text'])"
   ]
  },
  {
   "cell_type": "code",
   "execution_count": 35,
   "metadata": {
    "collapsed": true
   },
   "outputs": [],
   "source": [
    "nyr_percent_2 = sum(nyr_pred_2 == 1) / (sum(nyr_pred_2 == 1) + sum(nyr_pred_2 == 0))\n",
    "ducks_percent_2 = sum(ducks_pred_2 == 1) / (sum(ducks_pred_2 == 1) + sum(ducks_pred_2 == 0))\n",
    "yotes_percent_2 = sum(yotes_pred_2 == 1) / (sum(yotes_pred_2 == 1) + sum(yotes_pred_2 == 0))\n",
    "bruins_percent_2 = sum(bruins_pred_2 == 1) / (sum(bruins_pred_2 == 1) + sum(bruins_pred_2 == 0))\n",
    "sabres_percent_2 = sum(sabres_pred_2 == 1) / (sum(sabres_pred_2 == 1) + sum(sabres_pred_2 == 0))\n",
    "flames_percent_2 = sum(flames_pred_2 == 1) / (sum(flames_pred_2 == 1) + sum(flames_pred_2 == 0))\n",
    "canes_percent_2 = sum(canes_pred_2 == 1) / (sum(canes_pred_2 == 1) + sum(canes_pred_2 == 0))\n",
    "hawks_percent_2 = sum(hawks_pred_2 == 1) / (sum(hawks_pred_2 == 1) + sum(hawks_pred_2 == 0))\n",
    "avs_percent_2 = sum(avs_pred_2 == 1) / (sum(avs_pred_2 == 1) + sum(avs_pred_2 == 0))\n",
    "jackets_percent_2 = sum(jackets_pred_2 == 1) / (sum(jackets_pred_2 == 1) + sum(jackets_pred_2 == 0))\n",
    "stars_percent_2 = sum(stars_pred_2 == 1) / (sum(stars_pred_2 == 1) + sum(stars_pred_2 == 0))\n",
    "wings_percent_2 = sum(wings_pred_2 == 1) / (sum(wings_pred_2 == 1) + sum(wings_pred_2 == 0))\n",
    "oilers_percent_2 = sum(oilers_pred_2 == 1) / (sum(oilers_pred_2 == 1) + sum(oilers_pred_2 == 0))\n",
    "panthers_percent_2 = sum(panthers_pred_2 == 1) / (sum(panthers_pred_2 == 1) + sum(panthers_pred_2 == 0))\n",
    "kings_percent_2 = sum(kings_pred_2 == 1) / (sum(kings_pred_2 == 1) + sum(kings_pred_2 == 0))\n",
    "wild_percent_2 = sum(wild_pred_2 == 1) / (sum(wild_pred_2 == 1) + sum(wild_pred_2 == 0))\n",
    "habs_percent_2 = sum(habs_pred_2 == 1) / (sum(habs_pred_2 == 1) + sum(habs_pred_2 == 0))\n",
    "preds_percent_2 = sum(preds_pred_2 == 1) / (sum(preds_pred_2 == 1) + sum(preds_pred_2 == 0))\n",
    "devils_percent_2 = sum(devils_pred_2 == 1) / (sum(devils_pred_2 == 1) + sum(devils_pred_2 == 0))\n",
    "isles_percent_2 = sum(isles_pred_2 == 1) / (sum(isles_pred_2 == 1) + sum(isles_pred_2 == 0))\n",
    "sens_percent_2 = sum(sens_pred_2 == 1) / (sum(sens_pred_2 == 1) + sum(sens_pred_2 == 0))\n",
    "flyers_percent_2 = sum(flyers_pred_2 == 1) / (sum(flyers_pred_2 == 1) + sum(flyers_pred_2 == 0))\n",
    "pens_percent_2 = sum(pens_pred_2 == 1) / (sum(pens_pred_2 == 1) + sum(pens_pred_2 == 0))\n",
    "sharks_percent_2 = sum(sharks_pred_2 == 1) / (sum(sharks_pred_2 == 1) + sum(sharks_pred_2 == 0))\n",
    "blues_percent_2 = sum(blues_pred_2 == 1) / (sum(blues_pred_2 == 1) + sum(blues_pred_2 == 0))\n",
    "bolts_percent_2 = sum(bolts_pred_2 == 1) / (sum(bolts_pred_2 == 1) + sum(bolts_pred_2 == 0))\n",
    "leafs_percent_2 = sum(leafs_pred_2 == 1) / (sum(leafs_pred_2 == 1) + sum(leafs_pred_2 == 0))\n",
    "canucks_percent_2 = sum(canucks_pred_2 == 1) / (sum(canucks_pred_2 == 1) + sum(canucks_pred_2 == 0))\n",
    "knights_percent_2 = sum(knights_pred_2 == 1) / (sum(knights_pred_2 == 1) + sum(knights_pred_2 == 0))\n",
    "caps_percent_2 = sum(caps_pred_2 == 1) / (sum(caps_pred_2 == 1) + sum(caps_pred_2 == 0))\n",
    "jets_percent_2 = sum(jets_pred_2 == 1) / (sum(jets_pred_2 == 1) + sum(jets_pred_2 == 0))"
   ]
  },
  {
   "cell_type": "code",
   "execution_count": 36,
   "metadata": {},
   "outputs": [
    {
     "data": {
      "text/plain": [
       "31"
      ]
     },
     "execution_count": 36,
     "metadata": {},
     "output_type": "execute_result"
    }
   ],
   "source": [
    "positivity_second = [nyr_percent_2, ducks_percent_2, yotes_percent_2, bruins_percent_2, sabres_percent_2, flames_percent_2, canes_percent_2, hawks_percent_2, avs_percent_2, jackets_percent_2, stars_percent_2, wings_percent_2, oilers_percent_2, panthers_percent_2, kings_percent_2, wild_percent_2, habs_percent_2, preds_percent_2, devils_percent_2, isles_percent_2, sens_percent_2, flyers_percent_2, pens_percent_2, sharks_percent_2, blues_percent_2, bolts_percent_2, leafs_percent_2, canucks_percent_2, knights_percent_2, caps_percent_2, jets_percent_2]\n",
    "len(positivity_second)"
   ]
  },
  {
   "cell_type": "code",
   "execution_count": 47,
   "metadata": {},
   "outputs": [],
   "source": [
    "positivity_dict_second = {'team':teams, 'positivity':positivity_second}\n",
    "positivity_second_df = pd.DataFrame(positivity_dict_second)\n",
    "positivity_second_df = positivity_second_df.sort_values(by='positivity', ascending=False)"
   ]
  },
  {
   "cell_type": "code",
   "execution_count": 48,
   "metadata": {
    "collapsed": true
   },
   "outputs": [],
   "source": [
    "positivity_second_df['rank'] = range(1,32)"
   ]
  },
  {
   "cell_type": "code",
   "execution_count": 38,
   "metadata": {
    "collapsed": true
   },
   "outputs": [],
   "source": [
    "positivity_second_df.sort_values(by='positivity', ascending=False).to_csv('second_model_scores.csv', index=False)"
   ]
  },
  {
   "cell_type": "code",
   "execution_count": 39,
   "metadata": {
    "collapsed": true
   },
   "outputs": [],
   "source": [
    "nyr_pred_3 = nb_stop_tfidf_vec_ngrams.predict(nyr_df['stop_text'])\n",
    "ducks_pred_3 = nb_stop_tfidf_vec_ngrams.predict(ducks_df['stop_text'])\n",
    "yotes_pred_3 = nb_stop_tfidf_vec_ngrams.predict(yotes_df['stop_text'])\n",
    "bruins_pred_3 = nb_stop_tfidf_vec_ngrams.predict(bruins_df['stop_text'])\n",
    "sabres_pred_3 = nb_stop_tfidf_vec_ngrams.predict(sabres_df['stop_text'])\n",
    "flames_pred_3 = nb_stop_tfidf_vec_ngrams.predict(flames_df['stop_text'])\n",
    "canes_pred_3 = nb_stop_tfidf_vec_ngrams.predict(canes_df['stop_text'])\n",
    "hawks_pred_3 = nb_stop_tfidf_vec_ngrams.predict(hawks_df['stop_text'])\n",
    "avs_pred_3 = nb_stop_tfidf_vec_ngrams.predict(avs_df['stop_text'])\n",
    "jackets_pred_3 = nb_stop_tfidf_vec_ngrams.predict(jackets_df['stop_text'])\n",
    "stars_pred_3 = nb_stop_tfidf_vec_ngrams.predict(stars_df['stop_text'])\n",
    "wings_pred_3 = nb_stop_tfidf_vec_ngrams.predict(wings_df['stop_text'])\n",
    "oilers_pred_3 = nb_stop_tfidf_vec_ngrams.predict(oilers_df['stop_text'])\n",
    "panthers_pred_3 = nb_stop_tfidf_vec_ngrams.predict(panthers_df['stop_text'])\n",
    "kings_pred_3 = nb_stop_tfidf_vec_ngrams.predict(kings_df['stop_text'])\n",
    "wild_pred_3 = nb_stop_tfidf_vec_ngrams.predict(wild_df['stop_text'])\n",
    "habs_pred_3 = nb_stop_tfidf_vec_ngrams.predict(habs_df['stop_text'])\n",
    "preds_pred_3 = nb_stop_tfidf_vec_ngrams.predict(preds_df['stop_text'])\n",
    "devils_pred_3 = nb_stop_tfidf_vec_ngrams.predict(devils_df['stop_text'])\n",
    "isles_pred_3 = nb_stop_tfidf_vec_ngrams.predict(isles_df['stop_text'])\n",
    "sens_pred_3 = nb_stop_tfidf_vec_ngrams.predict(sens_df['stop_text'])\n",
    "flyers_pred_3 = nb_stop_tfidf_vec_ngrams.predict(flyers_df['stop_text'])\n",
    "pens_pred_3 = nb_stop_tfidf_vec_ngrams.predict(pens_df['stop_text'])\n",
    "sharks_pred_3 = nb_stop_tfidf_vec_ngrams.predict(sharks_df['stop_text'])\n",
    "blues_pred_3 = nb_stop_tfidf_vec_ngrams.predict(blues_df['stop_text'])\n",
    "bolts_pred_3 = nb_stop_tfidf_vec_ngrams.predict(bolts_df['stop_text'])\n",
    "leafs_pred_3 = nb_stop_tfidf_vec_ngrams.predict(leafs_df['stop_text'])\n",
    "canucks_pred_3 = nb_stop_tfidf_vec_ngrams.predict(canucks_df['stop_text'])\n",
    "knights_pred_3 = nb_stop_tfidf_vec_ngrams.predict(knights_df['stop_text'])\n",
    "caps_pred_3 = nb_stop_tfidf_vec_ngrams.predict(caps_df['stop_text'])\n",
    "jets_pred_3 = nb_stop_tfidf_vec_ngrams.predict(jets_df['stop_text'])"
   ]
  },
  {
   "cell_type": "code",
   "execution_count": 40,
   "metadata": {
    "collapsed": true
   },
   "outputs": [],
   "source": [
    "nyr_percent_3 = sum(nyr_pred_3 == 1) / (sum(nyr_pred_3 == 1) + sum(nyr_pred_3 == 0))\n",
    "ducks_percent_3 = sum(ducks_pred_3 == 1) / (sum(ducks_pred_3 == 1) + sum(ducks_pred_3 == 0))\n",
    "yotes_percent_3 = sum(yotes_pred_3 == 1) / (sum(yotes_pred_3 == 1) + sum(yotes_pred_3 == 0))\n",
    "bruins_percent_3 = sum(bruins_pred_3 == 1) / (sum(bruins_pred_3 == 1) + sum(bruins_pred_3 == 0))\n",
    "sabres_percent_3 = sum(sabres_pred_3 == 1) / (sum(sabres_pred_3 == 1) + sum(sabres_pred_3 == 0))\n",
    "flames_percent_3 = sum(flames_pred_3 == 1) / (sum(flames_pred_3 == 1) + sum(flames_pred_3 == 0))\n",
    "canes_percent_3 = sum(canes_pred_3 == 1) / (sum(canes_pred_3 == 1) + sum(canes_pred_3 == 0))\n",
    "hawks_percent_3 = sum(hawks_pred_3 == 1) / (sum(hawks_pred_3 == 1) + sum(hawks_pred_3 == 0))\n",
    "avs_percent_3 = sum(avs_pred_3 == 1) / (sum(avs_pred_3 == 1) + sum(avs_pred_3 == 0))\n",
    "jackets_percent_3 = sum(jackets_pred_3 == 1) / (sum(jackets_pred_3 == 1) + sum(jackets_pred_3 == 0))\n",
    "stars_percent_3 = sum(stars_pred_3 == 1) / (sum(stars_pred_3 == 1) + sum(stars_pred_3 == 0))\n",
    "wings_percent_3 = sum(wings_pred_3 == 1) / (sum(wings_pred_3 == 1) + sum(wings_pred_3 == 0))\n",
    "oilers_percent_3 = sum(oilers_pred_3 == 1) / (sum(oilers_pred_3 == 1) + sum(oilers_pred_3 == 0))\n",
    "panthers_percent_3 = sum(panthers_pred_3 == 1) / (sum(panthers_pred_3 == 1) + sum(panthers_pred_3 == 0))\n",
    "kings_percent_3 = sum(kings_pred_3 == 1) / (sum(kings_pred_3 == 1) + sum(kings_pred_3 == 0))\n",
    "wild_percent_3 = sum(wild_pred_3 == 1) / (sum(wild_pred_3 == 1) + sum(wild_pred_3 == 0))\n",
    "habs_percent_3 = sum(habs_pred_3 == 1) / (sum(habs_pred_3 == 1) + sum(habs_pred_3 == 0))\n",
    "preds_percent_3 = sum(preds_pred_3 == 1) / (sum(preds_pred_3 == 1) + sum(preds_pred_3 == 0))\n",
    "devils_percent_3 = sum(devils_pred_3 == 1) / (sum(devils_pred_3 == 1) + sum(devils_pred_3 == 0))\n",
    "isles_percent_3 = sum(isles_pred_3 == 1) / (sum(isles_pred_3 == 1) + sum(isles_pred_3 == 0))\n",
    "sens_percent_3 = sum(sens_pred_3 == 1) / (sum(sens_pred_3 == 1) + sum(sens_pred_3 == 0))\n",
    "flyers_percent_3 = sum(flyers_pred_3 == 1) / (sum(flyers_pred_3 == 1) + sum(flyers_pred_3 == 0))\n",
    "pens_percent_3 = sum(pens_pred_3 == 1) / (sum(pens_pred_3 == 1) + sum(pens_pred_3 == 0))\n",
    "sharks_percent_3 = sum(sharks_pred_3 == 1) / (sum(sharks_pred_3 == 1) + sum(sharks_pred_3 == 0))\n",
    "blues_percent_3 = sum(blues_pred_3 == 1) / (sum(blues_pred_3 == 1) + sum(blues_pred_3 == 0))\n",
    "bolts_percent_3 = sum(bolts_pred_3 == 1) / (sum(bolts_pred_3 == 1) + sum(bolts_pred_3 == 0))\n",
    "leafs_percent_3 = sum(leafs_pred_3 == 1) / (sum(leafs_pred_3 == 1) + sum(leafs_pred_3 == 0))\n",
    "canucks_percent_3 = sum(canucks_pred_3 == 1) / (sum(canucks_pred_3 == 1) + sum(canucks_pred_3 == 0))\n",
    "knights_percent_3 = sum(knights_pred_3 == 1) / (sum(knights_pred_3 == 1) + sum(knights_pred_3 == 0))\n",
    "caps_percent_3 = sum(caps_pred_3 == 1) / (sum(caps_pred_3 == 1) + sum(caps_pred_3 == 0))\n",
    "jets_percent_3 = sum(jets_pred_3 == 1) / (sum(jets_pred_3 == 1) + sum(jets_pred_3 == 0))"
   ]
  },
  {
   "cell_type": "code",
   "execution_count": 41,
   "metadata": {},
   "outputs": [
    {
     "data": {
      "text/plain": [
       "31"
      ]
     },
     "execution_count": 41,
     "metadata": {},
     "output_type": "execute_result"
    }
   ],
   "source": [
    "positivity_third = [nyr_percent_3, ducks_percent_3, yotes_percent_3, bruins_percent_3, sabres_percent_3, flames_percent_3, canes_percent_3, hawks_percent_3, avs_percent_3, jackets_percent_3, stars_percent_3, wings_percent_3, oilers_percent_3, panthers_percent_3, kings_percent_3, wild_percent_3, habs_percent_3, preds_percent_3, devils_percent_3, isles_percent_3, sens_percent_3, flyers_percent_3, pens_percent_3, sharks_percent_3, blues_percent_3, bolts_percent_3, leafs_percent_3, canucks_percent_3, knights_percent_3, caps_percent_3, jets_percent_3]\n",
    "len(positivity_second)"
   ]
  },
  {
   "cell_type": "code",
   "execution_count": 49,
   "metadata": {},
   "outputs": [],
   "source": [
    "positivity_dict_third = {'team':teams, 'positivity':positivity_third}\n",
    "positivity_third_df = pd.DataFrame(positivity_dict_third)\n",
    "positivity_third_df = positivity_third_df.sort_values(by='positivity', ascending=False)"
   ]
  },
  {
   "cell_type": "code",
   "execution_count": 50,
   "metadata": {
    "collapsed": true
   },
   "outputs": [],
   "source": [
    "positivity_third_df['rank'] = range(1,32)"
   ]
  },
  {
   "cell_type": "code",
   "execution_count": 67,
   "metadata": {},
   "outputs": [
    {
     "data": {
      "text/html": [
       "<div>\n",
       "<style>\n",
       "    .dataframe thead tr:only-child th {\n",
       "        text-align: right;\n",
       "    }\n",
       "\n",
       "    .dataframe thead th {\n",
       "        text-align: left;\n",
       "    }\n",
       "\n",
       "    .dataframe tbody tr th {\n",
       "        vertical-align: top;\n",
       "    }\n",
       "</style>\n",
       "<table border=\"1\" class=\"dataframe\">\n",
       "  <thead>\n",
       "    <tr style=\"text-align: right;\">\n",
       "      <th></th>\n",
       "      <th>positivity</th>\n",
       "      <th>team</th>\n",
       "      <th>rank</th>\n",
       "    </tr>\n",
       "  </thead>\n",
       "  <tbody>\n",
       "    <tr>\n",
       "      <th>1</th>\n",
       "      <td>0.670547</td>\n",
       "      <td>Anaheim Ducks</td>\n",
       "      <td>1</td>\n",
       "    </tr>\n",
       "    <tr>\n",
       "      <th>14</th>\n",
       "      <td>0.653072</td>\n",
       "      <td>Los Angeles Kings</td>\n",
       "      <td>2</td>\n",
       "    </tr>\n",
       "    <tr>\n",
       "      <th>11</th>\n",
       "      <td>0.652494</td>\n",
       "      <td>Detroit Red Wings</td>\n",
       "      <td>3</td>\n",
       "    </tr>\n",
       "    <tr>\n",
       "      <th>28</th>\n",
       "      <td>0.649031</td>\n",
       "      <td>Vegas Golden Knights</td>\n",
       "      <td>4</td>\n",
       "    </tr>\n",
       "    <tr>\n",
       "      <th>6</th>\n",
       "      <td>0.641504</td>\n",
       "      <td>Carolina Hurricanes</td>\n",
       "      <td>5</td>\n",
       "    </tr>\n",
       "    <tr>\n",
       "      <th>22</th>\n",
       "      <td>0.640676</td>\n",
       "      <td>Pittsburgh Penguins</td>\n",
       "      <td>6</td>\n",
       "    </tr>\n",
       "    <tr>\n",
       "      <th>8</th>\n",
       "      <td>0.638772</td>\n",
       "      <td>Colorado Avalanche</td>\n",
       "      <td>7</td>\n",
       "    </tr>\n",
       "    <tr>\n",
       "      <th>10</th>\n",
       "      <td>0.637880</td>\n",
       "      <td>Dallas Stars</td>\n",
       "      <td>8</td>\n",
       "    </tr>\n",
       "    <tr>\n",
       "      <th>21</th>\n",
       "      <td>0.626945</td>\n",
       "      <td>Philadelphia Flyers</td>\n",
       "      <td>9</td>\n",
       "    </tr>\n",
       "    <tr>\n",
       "      <th>2</th>\n",
       "      <td>0.622624</td>\n",
       "      <td>Arizona Coyotes</td>\n",
       "      <td>10</td>\n",
       "    </tr>\n",
       "    <tr>\n",
       "      <th>9</th>\n",
       "      <td>0.620871</td>\n",
       "      <td>Columbus Blue Jackets</td>\n",
       "      <td>11</td>\n",
       "    </tr>\n",
       "    <tr>\n",
       "      <th>15</th>\n",
       "      <td>0.619521</td>\n",
       "      <td>Minnesota Wild</td>\n",
       "      <td>12</td>\n",
       "    </tr>\n",
       "    <tr>\n",
       "      <th>17</th>\n",
       "      <td>0.611067</td>\n",
       "      <td>Nashville Predators</td>\n",
       "      <td>13</td>\n",
       "    </tr>\n",
       "    <tr>\n",
       "      <th>29</th>\n",
       "      <td>0.607235</td>\n",
       "      <td>Washington Capitals</td>\n",
       "      <td>14</td>\n",
       "    </tr>\n",
       "    <tr>\n",
       "      <th>23</th>\n",
       "      <td>0.606925</td>\n",
       "      <td>San Jose Sharks</td>\n",
       "      <td>15</td>\n",
       "    </tr>\n",
       "    <tr>\n",
       "      <th>30</th>\n",
       "      <td>0.601785</td>\n",
       "      <td>Winnipeg Jets</td>\n",
       "      <td>16</td>\n",
       "    </tr>\n",
       "    <tr>\n",
       "      <th>3</th>\n",
       "      <td>0.580566</td>\n",
       "      <td>Boston Bruins</td>\n",
       "      <td>17</td>\n",
       "    </tr>\n",
       "    <tr>\n",
       "      <th>24</th>\n",
       "      <td>0.579117</td>\n",
       "      <td>St. Louis Blues</td>\n",
       "      <td>18</td>\n",
       "    </tr>\n",
       "    <tr>\n",
       "      <th>0</th>\n",
       "      <td>0.574480</td>\n",
       "      <td>New York Rangers</td>\n",
       "      <td>19</td>\n",
       "    </tr>\n",
       "    <tr>\n",
       "      <th>19</th>\n",
       "      <td>0.574450</td>\n",
       "      <td>New York Islanders</td>\n",
       "      <td>20</td>\n",
       "    </tr>\n",
       "    <tr>\n",
       "      <th>26</th>\n",
       "      <td>0.567691</td>\n",
       "      <td>Toronto Maple Leafs</td>\n",
       "      <td>21</td>\n",
       "    </tr>\n",
       "    <tr>\n",
       "      <th>27</th>\n",
       "      <td>0.567657</td>\n",
       "      <td>Vancouver Canucks</td>\n",
       "      <td>22</td>\n",
       "    </tr>\n",
       "    <tr>\n",
       "      <th>13</th>\n",
       "      <td>0.558468</td>\n",
       "      <td>Florida Panthers</td>\n",
       "      <td>23</td>\n",
       "    </tr>\n",
       "    <tr>\n",
       "      <th>4</th>\n",
       "      <td>0.555252</td>\n",
       "      <td>Buffalo Sabres</td>\n",
       "      <td>24</td>\n",
       "    </tr>\n",
       "    <tr>\n",
       "      <th>16</th>\n",
       "      <td>0.555150</td>\n",
       "      <td>Montreal Canadiens</td>\n",
       "      <td>25</td>\n",
       "    </tr>\n",
       "    <tr>\n",
       "      <th>25</th>\n",
       "      <td>0.553976</td>\n",
       "      <td>Tampa Bay Lightning</td>\n",
       "      <td>26</td>\n",
       "    </tr>\n",
       "    <tr>\n",
       "      <th>5</th>\n",
       "      <td>0.539795</td>\n",
       "      <td>Calgary Flames</td>\n",
       "      <td>27</td>\n",
       "    </tr>\n",
       "    <tr>\n",
       "      <th>20</th>\n",
       "      <td>0.527908</td>\n",
       "      <td>Ottawa Senators</td>\n",
       "      <td>28</td>\n",
       "    </tr>\n",
       "    <tr>\n",
       "      <th>12</th>\n",
       "      <td>0.521430</td>\n",
       "      <td>Edmonton Oilers</td>\n",
       "      <td>29</td>\n",
       "    </tr>\n",
       "    <tr>\n",
       "      <th>7</th>\n",
       "      <td>0.511663</td>\n",
       "      <td>Chicago Blackhawks</td>\n",
       "      <td>30</td>\n",
       "    </tr>\n",
       "    <tr>\n",
       "      <th>18</th>\n",
       "      <td>0.508828</td>\n",
       "      <td>New Jersey Devils</td>\n",
       "      <td>31</td>\n",
       "    </tr>\n",
       "  </tbody>\n",
       "</table>\n",
       "</div>"
      ],
      "text/plain": [
       "    positivity                   team  rank\n",
       "1     0.670547          Anaheim Ducks     1\n",
       "14    0.653072      Los Angeles Kings     2\n",
       "11    0.652494      Detroit Red Wings     3\n",
       "28    0.649031   Vegas Golden Knights     4\n",
       "6     0.641504    Carolina Hurricanes     5\n",
       "22    0.640676    Pittsburgh Penguins     6\n",
       "8     0.638772     Colorado Avalanche     7\n",
       "10    0.637880           Dallas Stars     8\n",
       "21    0.626945    Philadelphia Flyers     9\n",
       "2     0.622624        Arizona Coyotes    10\n",
       "9     0.620871  Columbus Blue Jackets    11\n",
       "15    0.619521         Minnesota Wild    12\n",
       "17    0.611067    Nashville Predators    13\n",
       "29    0.607235    Washington Capitals    14\n",
       "23    0.606925        San Jose Sharks    15\n",
       "30    0.601785          Winnipeg Jets    16\n",
       "3     0.580566          Boston Bruins    17\n",
       "24    0.579117        St. Louis Blues    18\n",
       "0     0.574480       New York Rangers    19\n",
       "19    0.574450     New York Islanders    20\n",
       "26    0.567691    Toronto Maple Leafs    21\n",
       "27    0.567657      Vancouver Canucks    22\n",
       "13    0.558468       Florida Panthers    23\n",
       "4     0.555252         Buffalo Sabres    24\n",
       "16    0.555150     Montreal Canadiens    25\n",
       "25    0.553976    Tampa Bay Lightning    26\n",
       "5     0.539795         Calgary Flames    27\n",
       "20    0.527908        Ottawa Senators    28\n",
       "12    0.521430        Edmonton Oilers    29\n",
       "7     0.511663     Chicago Blackhawks    30\n",
       "18    0.508828      New Jersey Devils    31"
      ]
     },
     "execution_count": 67,
     "metadata": {},
     "output_type": "execute_result"
    }
   ],
   "source": [
    "positivity_third_df"
   ]
  },
  {
   "cell_type": "code",
   "execution_count": 43,
   "metadata": {
    "collapsed": true
   },
   "outputs": [],
   "source": [
    "positivity_third_df.sort_values(by='positivity', ascending=False).to_csv('third_model_scores.csv', index=False)"
   ]
  },
  {
   "cell_type": "code",
   "execution_count": 53,
   "metadata": {},
   "outputs": [],
   "source": [
    "positivity_total = positivity_final_df.merge(positivity_second_df, how='left', on='team')"
   ]
  },
  {
   "cell_type": "code",
   "execution_count": 55,
   "metadata": {},
   "outputs": [],
   "source": [
    "positivity_total = positivity_total.merge(positivity_third_df, how='left', on='team')"
   ]
  },
  {
   "cell_type": "code",
   "execution_count": 60,
   "metadata": {},
   "outputs": [],
   "source": [
    "positivity_total = positivity_total[['team','rank_x','rank_y','rank']]"
   ]
  },
  {
   "cell_type": "code",
   "execution_count": 61,
   "metadata": {},
   "outputs": [
    {
     "name": "stderr",
     "output_type": "stream",
     "text": [
      "/anaconda/lib/python3.6/site-packages/ipykernel_launcher.py:5: SettingWithCopyWarning: \n",
      "A value is trying to be set on a copy of a slice from a DataFrame.\n",
      "Try using .loc[row_indexer,col_indexer] = value instead\n",
      "\n",
      "See the caveats in the documentation: http://pandas.pydata.org/pandas-docs/stable/indexing.html#indexing-view-versus-copy\n",
      "  \"\"\"\n"
     ]
    }
   ],
   "source": [
    "def average(row):\n",
    "    sums = row['rank'] + row['rank_x'] + row['rank_y']\n",
    "    return sums/3\n",
    "\n",
    "positivity_total['avg_rank'] = positivity_total.apply(average, 1)"
   ]
  },
  {
   "cell_type": "code",
   "execution_count": 62,
   "metadata": {},
   "outputs": [
    {
     "data": {
      "text/html": [
       "<div>\n",
       "<style>\n",
       "    .dataframe thead tr:only-child th {\n",
       "        text-align: right;\n",
       "    }\n",
       "\n",
       "    .dataframe thead th {\n",
       "        text-align: left;\n",
       "    }\n",
       "\n",
       "    .dataframe tbody tr th {\n",
       "        vertical-align: top;\n",
       "    }\n",
       "</style>\n",
       "<table border=\"1\" class=\"dataframe\">\n",
       "  <thead>\n",
       "    <tr style=\"text-align: right;\">\n",
       "      <th></th>\n",
       "      <th>team</th>\n",
       "      <th>rank_x</th>\n",
       "      <th>rank_y</th>\n",
       "      <th>rank</th>\n",
       "      <th>avg_rank</th>\n",
       "    </tr>\n",
       "  </thead>\n",
       "  <tbody>\n",
       "    <tr>\n",
       "      <th>0</th>\n",
       "      <td>Anaheim Ducks</td>\n",
       "      <td>1</td>\n",
       "      <td>1</td>\n",
       "      <td>1</td>\n",
       "      <td>1.000000</td>\n",
       "    </tr>\n",
       "    <tr>\n",
       "      <th>1</th>\n",
       "      <td>Los Angeles Kings</td>\n",
       "      <td>2</td>\n",
       "      <td>2</td>\n",
       "      <td>2</td>\n",
       "      <td>2.000000</td>\n",
       "    </tr>\n",
       "    <tr>\n",
       "      <th>2</th>\n",
       "      <td>Nashville Predators</td>\n",
       "      <td>3</td>\n",
       "      <td>4</td>\n",
       "      <td>13</td>\n",
       "      <td>6.666667</td>\n",
       "    </tr>\n",
       "    <tr>\n",
       "      <th>3</th>\n",
       "      <td>Detroit Red Wings</td>\n",
       "      <td>4</td>\n",
       "      <td>3</td>\n",
       "      <td>3</td>\n",
       "      <td>3.333333</td>\n",
       "    </tr>\n",
       "    <tr>\n",
       "      <th>4</th>\n",
       "      <td>Colorado Avalanche</td>\n",
       "      <td>5</td>\n",
       "      <td>5</td>\n",
       "      <td>7</td>\n",
       "      <td>5.666667</td>\n",
       "    </tr>\n",
       "  </tbody>\n",
       "</table>\n",
       "</div>"
      ],
      "text/plain": [
       "                  team  rank_x  rank_y  rank  avg_rank\n",
       "0        Anaheim Ducks       1       1     1  1.000000\n",
       "1    Los Angeles Kings       2       2     2  2.000000\n",
       "2  Nashville Predators       3       4    13  6.666667\n",
       "3    Detroit Red Wings       4       3     3  3.333333\n",
       "4   Colorado Avalanche       5       5     7  5.666667"
      ]
     },
     "execution_count": 62,
     "metadata": {},
     "output_type": "execute_result"
    }
   ],
   "source": [
    "positivity_total.head()"
   ]
  },
  {
   "cell_type": "code",
   "execution_count": 64,
   "metadata": {},
   "outputs": [],
   "source": [
    "positivity_total.columns = ['team', 'final_model_rank','second_model_rank','third_model_rank','average_rank']"
   ]
  },
  {
   "cell_type": "code",
   "execution_count": 66,
   "metadata": {
    "collapsed": true
   },
   "outputs": [],
   "source": [
    "positivity_total.to_csv('rankings.csv', index=False)"
   ]
  },
  {
   "cell_type": "code",
   "execution_count": null,
   "metadata": {
    "collapsed": true
   },
   "outputs": [],
   "source": []
  }
 ],
 "metadata": {
  "kernelspec": {
   "display_name": "Python 3",
   "language": "python",
   "name": "python3"
  },
  "language_info": {
   "codemirror_mode": {
    "name": "ipython",
    "version": 3
   },
   "file_extension": ".py",
   "mimetype": "text/x-python",
   "name": "python",
   "nbconvert_exporter": "python",
   "pygments_lexer": "ipython3",
   "version": "3.6.1"
  }
 },
 "nbformat": 4,
 "nbformat_minor": 2
}
